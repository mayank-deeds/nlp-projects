{
  "nbformat": 4,
  "nbformat_minor": 0,
  "metadata": {
    "colab": {
      "name": "Copy of pandas-practice-2.ipynb",
      "provenance": [],
      "collapsed_sections": [],
      "authorship_tag": "ABX9TyOwNybN3qfCpd4cMw8EKhBN",
      "include_colab_link": true
    },
    "kernelspec": {
      "name": "python3",
      "display_name": "Python 3"
    },
    "language_info": {
      "name": "python"
    }
  },
  "cells": [
    {
      "cell_type": "markdown",
      "metadata": {
        "id": "view-in-github",
        "colab_type": "text"
      },
      "source": [
        "<a href=\"https://colab.research.google.com/github/mayank-deeds/nlp-projects/blob/main/Copy_of_pandas_practice_2.ipynb\" target=\"_parent\"><img src=\"https://colab.research.google.com/assets/colab-badge.svg\" alt=\"Open In Colab\"/></a>"
      ]
    },
    {
      "cell_type": "code",
      "source": [
        "import pandas as pd\n"
      ],
      "metadata": {
        "id": "7dPRznt3KmJu"
      },
      "execution_count": null,
      "outputs": []
    },
    {
      "cell_type": "code",
      "source": [
        ""
      ],
      "metadata": {
        "id": "d73ny9r0Scts"
      },
      "execution_count": null,
      "outputs": []
    },
    {
      "cell_type": "code",
      "source": [
        ""
      ],
      "metadata": {
        "id": "9puC5LmISdEB"
      },
      "execution_count": null,
      "outputs": []
    },
    {
      "cell_type": "code",
      "execution_count": null,
      "metadata": {
        "id": "FU6x879uKIGu"
      },
      "outputs": [],
      "source": [
        "# pd is a package\n",
        "# series is a class\n",
        "# series() is the default constructor of theat class\n",
        "# pd.Series()"
      ]
    },
    {
      "cell_type": "code",
      "source": [
        "pd.Series()"
      ],
      "metadata": {
        "colab": {
          "base_uri": "https://localhost:8080/"
        },
        "id": "RaHJd_zhKkS6",
        "outputId": "1bc936a1-2544-4a42-b72e-5e97e37849b3"
      },
      "execution_count": null,
      "outputs": [
        {
          "output_type": "stream",
          "name": "stderr",
          "text": [
            "/usr/local/lib/python3.7/dist-packages/ipykernel_launcher.py:1: DeprecationWarning: The default dtype for empty Series will be 'object' instead of 'float64' in a future version. Specify a dtype explicitly to silence this warning.\n",
            "  \"\"\"Entry point for launching an IPython kernel.\n"
          ]
        },
        {
          "output_type": "execute_result",
          "data": {
            "text/plain": [
              "Series([], dtype: float64)"
            ]
          },
          "metadata": {},
          "execution_count": 3
        }
      ]
    },
    {
      "cell_type": "code",
      "source": [
        ""
      ],
      "metadata": {
        "id": "7avx5sgMKkvK"
      },
      "execution_count": null,
      "outputs": []
    },
    {
      "cell_type": "markdown",
      "source": [
        "The first argument to the Series constructor is an iterable object whose values\n",
        "will populate the Series. We can pass various inputs, including lists, dictionaries, tuples, and NumPy ndarrays."
      ],
      "metadata": {
        "id": "kR6a5B-cK-qW"
      }
    },
    {
      "cell_type": "code",
      "source": [
        ""
      ],
      "metadata": {
        "id": "o0OTsRCnNHty"
      },
      "execution_count": null,
      "outputs": []
    },
    {
      "cell_type": "markdown",
      "source": [
        ""
      ],
      "metadata": {
        "id": "5yghwd3ONErQ"
      }
    },
    {
      "cell_type": "code",
      "source": [
        "# pd.Series(any_list_name)\n",
        "# Notice that pandas preserves the order of the strings from the input list.\n",
        "# A parameter is a name given to an expected input to a function or method\n",
        "# Adefault argument is a fallback value that Python uses if we do not provide an argumentfor the parameter.\n",
        "#\n",
        "#\n",
        "#\n",
        "#\n",
        "#\n"
      ],
      "metadata": {
        "id": "SmKSZNuRLBO0"
      },
      "execution_count": null,
      "outputs": []
    },
    {
      "cell_type": "markdown",
      "source": [
        "If we do not pass a value for the name parameter, for example,\n",
        "Python will use None. A parameter with a default argument is inherently optional. It\n",
        "will always have some argument, either explicitly from its invocation or implicitly from\n",
        "its definition. We were able to instantiate a Series without arguments earlier because\n",
        "all six of its constructor’s parameters are optional\n",
        "\n",
        "The Series constructor’s first parameter, data, expects the object whose values\n",
        "will populate the Series. If we pass arguments to the constructor without parameter\n",
        "names, Python will assume that we are passing them sequentially\n",
        "\n",
        "We can connect parameters and arguments explicitly with keyword arguments (see\n",
        "appendix B)\n",
        "\n",
        "Enter the parameter, followed by an equal sign and its argument. In the\n",
        "following example, the first line uses positional arguments, and the second one uses\n",
        "\n",
        "keyword arguments, but the result is the same:\n",
        "In [4] # The two lines below are equivalent\n",
        "pd.Series(ice_cream_flavors)\n",
        "pd.Series(data = ice_cream_flavors)\n",
        "Out [4] 0 Chocolate\n",
        "1 Vanilla\n",
        "2 Strawberry\n",
        "3 Rum Raisin\n",
        "dtype: object\n",
        "\n",
        "Keyword arguments are advantageous because they provide context for what each\n",
        "constructor argument represents. The second line in the example better communicates that ice_cream_flavors represents the data for the Series\n",
        "\n"
      ],
      "metadata": {
        "id": "MAJX2PHKP3e1"
      }
    },
    {
      "cell_type": "code",
      "source": [
        "import numpy as np"
      ],
      "metadata": {
        "id": "0jqZqpWuOysK"
      },
      "execution_count": null,
      "outputs": []
    },
    {
      "cell_type": "code",
      "source": [
        "pd.Series()"
      ],
      "metadata": {
        "id": "aIxv03huPXP4"
      },
      "execution_count": null,
      "outputs": []
    },
    {
      "cell_type": "code",
      "source": [
        "lucky_numbers = [4, 8, 15, 16,np.nan, 23, 42]\n",
        "pd.Series(lucky_numbers)"
      ],
      "metadata": {
        "colab": {
          "base_uri": "https://localhost:8080/"
        },
        "id": "dfDURD0mWNuq",
        "outputId": "48546c64-6e0f-4cf1-940c-ba4945c4febc"
      },
      "execution_count": null,
      "outputs": [
        {
          "output_type": "execute_result",
          "data": {
            "text/plain": [
              "0     4.0\n",
              "1     8.0\n",
              "2    15.0\n",
              "3    16.0\n",
              "4     NaN\n",
              "5    23.0\n",
              "6    42.0\n",
              "dtype: float64"
            ]
          },
          "metadata": {},
          "execution_count": 7
        }
      ]
    },
    {
      "cell_type": "code",
      "source": [
        "# A dictionary is a collection of key-value pairs (see appendix B). When passed a dictionary, the constructor sets each key as a corresponding index label in the Series"
      ],
      "metadata": {
        "id": "QChhb7jfW_gH"
      },
      "execution_count": null,
      "outputs": []
    },
    {
      "cell_type": "code",
      "source": [
        "calorie_info = {\n",
        "\"Cereal\": 125,\n",
        "\"Chocolate Bar\": 406,\n",
        "\"Ice Cream Sundae\": 342,\n",
        "}\n",
        "diet = pd.Series(calorie_info)\n",
        "diet"
      ],
      "metadata": {
        "colab": {
          "base_uri": "https://localhost:8080/"
        },
        "id": "LVCEQRFyWQ59",
        "outputId": "a6dc7217-23aa-4bbf-9df5-872e706ffa6c"
      },
      "execution_count": null,
      "outputs": [
        {
          "output_type": "execute_result",
          "data": {
            "text/plain": [
              "Cereal              125\n",
              "Chocolate Bar       406\n",
              "Ice Cream Sundae    342\n",
              "dtype: int64"
            ]
          },
          "metadata": {},
          "execution_count": 8
        }
      ]
    },
    {
      "cell_type": "code",
      "source": [
        "# A tuple is an immutable list. We cannot add, remove, or replace elements in a tuple after creating it (see appendix B)"
      ],
      "metadata": {
        "id": "lAgOdRedWm05"
      },
      "execution_count": null,
      "outputs": []
    },
    {
      "cell_type": "code",
      "source": [
        "s=pd.Series(data = (\"Red\", \"Green\", \"Blue\"))"
      ],
      "metadata": {
        "id": "t3G6aKNUXHxU"
      },
      "execution_count": null,
      "outputs": []
    },
    {
      "cell_type": "code",
      "source": [
        "# A set is an unordered collection of unique values. We can declare it with a pair of curly braces, \n",
        "# exactly like a dictionary. Python uses the presence of key-value pairs to distinguish between the two data structures (see appendix B)"
      ],
      "metadata": {
        "id": "6YIYxCvgXIOv"
      },
      "execution_count": null,
      "outputs": []
    },
    {
      "cell_type": "code",
      "source": [
        "s"
      ],
      "metadata": {
        "colab": {
          "base_uri": "https://localhost:8080/"
        },
        "id": "QOIBDkbDXk7p",
        "outputId": "811ddbd7-5aba-4e03-dd94-4f44ed33702a"
      },
      "execution_count": null,
      "outputs": [
        {
          "output_type": "execute_result",
          "data": {
            "text/plain": [
              "0      Red\n",
              "1    Green\n",
              "2     Blue\n",
              "dtype: object"
            ]
          },
          "metadata": {},
          "execution_count": 13
        }
      ]
    },
    {
      "cell_type": "code",
      "source": [
        "s.values"
      ],
      "metadata": {
        "colab": {
          "base_uri": "https://localhost:8080/"
        },
        "id": "7k-LylMqYMYv",
        "outputId": "5370be03-d8b3-4ced-d705-f86e187f7dfd"
      },
      "execution_count": null,
      "outputs": [
        {
          "output_type": "execute_result",
          "data": {
            "text/plain": [
              "array(['Red', 'Green', 'Blue'], dtype=object)"
            ]
          },
          "metadata": {},
          "execution_count": 16
        }
      ]
    },
    {
      "cell_type": "code",
      "source": [
        "type(s.values)"
      ],
      "metadata": {
        "colab": {
          "base_uri": "https://localhost:8080/"
        },
        "id": "B2Btpwr_YOdT",
        "outputId": "13e41b06-55c8-4f05-bbf2-fac1030e8986"
      },
      "execution_count": null,
      "outputs": [
        {
          "output_type": "execute_result",
          "data": {
            "text/plain": [
              "numpy.ndarray"
            ]
          },
          "metadata": {},
          "execution_count": 17
        }
      ]
    },
    {
      "cell_type": "code",
      "source": [
        "s.index"
      ],
      "metadata": {
        "colab": {
          "base_uri": "https://localhost:8080/"
        },
        "id": "1tEjhvSWYfTA",
        "outputId": "aff1a7b1-1c3b-444e-a496-e9cbbb802d14"
      },
      "execution_count": null,
      "outputs": [
        {
          "output_type": "execute_result",
          "data": {
            "text/plain": [
              "RangeIndex(start=0, stop=3, step=1)"
            ]
          },
          "metadata": {},
          "execution_count": 18
        }
      ]
    },
    {
      "cell_type": "code",
      "source": [
        "type(s.index)"
      ],
      "metadata": {
        "colab": {
          "base_uri": "https://localhost:8080/"
        },
        "id": "wNPn8Ha0YuZz",
        "outputId": "b630d227-3464-4df5-e9e6-cc5da67839d1"
      },
      "execution_count": null,
      "outputs": [
        {
          "output_type": "execute_result",
          "data": {
            "text/plain": [
              "pandas.core.indexes.range.RangeIndex"
            ]
          },
          "metadata": {},
          "execution_count": 19
        }
      ]
    },
    {
      "cell_type": "code",
      "source": [
        "s.dtype"
      ],
      "metadata": {
        "colab": {
          "base_uri": "https://localhost:8080/"
        },
        "id": "VwHl0RMTY7gy",
        "outputId": "027ff01c-2bf9-4a29-c32b-83ceec6c0142"
      },
      "execution_count": null,
      "outputs": [
        {
          "output_type": "execute_result",
          "data": {
            "text/plain": [
              "dtype('O')"
            ]
          },
          "metadata": {},
          "execution_count": 21
        }
      ]
    },
    {
      "cell_type": "code",
      "source": [
        "s"
      ],
      "metadata": {
        "colab": {
          "base_uri": "https://localhost:8080/"
        },
        "id": "jDvZ-Je_ZByh",
        "outputId": "e56aea6e-f88a-447a-c74d-db3c158a7489"
      },
      "execution_count": null,
      "outputs": [
        {
          "output_type": "execute_result",
          "data": {
            "text/plain": [
              "0      Red\n",
              "1    Green\n",
              "2     Blue\n",
              "dtype: object"
            ]
          },
          "metadata": {},
          "execution_count": 22
        }
      ]
    },
    {
      "cell_type": "code",
      "source": [
        "s.dtype"
      ],
      "metadata": {
        "colab": {
          "base_uri": "https://localhost:8080/"
        },
        "id": "sk0JxL1oZGvt",
        "outputId": "eca98210-03ba-4ced-f56d-ae4e0d672144"
      },
      "execution_count": null,
      "outputs": [
        {
          "output_type": "execute_result",
          "data": {
            "text/plain": [
              "dtype('O')"
            ]
          },
          "metadata": {},
          "execution_count": 23
        }
      ]
    },
    {
      "cell_type": "code",
      "source": [
        "s.size"
      ],
      "metadata": {
        "colab": {
          "base_uri": "https://localhost:8080/"
        },
        "id": "8limpuYrZJAk",
        "outputId": "93857ebe-03e0-468a-8ae4-0456115f241c"
      },
      "execution_count": null,
      "outputs": [
        {
          "output_type": "execute_result",
          "data": {
            "text/plain": [
              "3"
            ]
          },
          "metadata": {},
          "execution_count": 24
        }
      ]
    },
    {
      "cell_type": "code",
      "source": [
        "# The complementary shape attribute returns a tuple with the dimensions of a pandas\n",
        "# data structure. For the one-dimensional Series, the tuple’s only value will be the\n",
        "# Series’ size. The comma after the 3 is a standard visual output for one-element\n",
        "# tuples in Python\n",
        "\n",
        "s.shape"
      ],
      "metadata": {
        "colab": {
          "base_uri": "https://localhost:8080/"
        },
        "id": "fmTnraPtZOoR",
        "outputId": "e8056dc8-5503-4b66-fdc7-f5430b91639c"
      },
      "execution_count": null,
      "outputs": [
        {
          "output_type": "execute_result",
          "data": {
            "text/plain": [
              "(3,)"
            ]
          },
          "metadata": {},
          "execution_count": 25
        }
      ]
    },
    {
      "cell_type": "code",
      "source": [
        "# The is_unique attribute returns True if all Series values are unique:\n",
        "s.is_unique"
      ],
      "metadata": {
        "colab": {
          "base_uri": "https://localhost:8080/"
        },
        "id": "n98yi7HRZe60",
        "outputId": "bbad9648-3850-4eb9-dd4a-85d91c2d7fb1"
      },
      "execution_count": null,
      "outputs": [
        {
          "output_type": "execute_result",
          "data": {
            "text/plain": [
              "True"
            ]
          },
          "metadata": {},
          "execution_count": 27
        }
      ]
    },
    {
      "cell_type": "code",
      "source": [
        "# this is simply a new series with a list of 2 numbers 3 and 3 idiot \n",
        "s2=pd.Series(data = [3, 3])"
      ],
      "metadata": {
        "id": "yaQk1_SmZl5T"
      },
      "execution_count": null,
      "outputs": []
    },
    {
      "cell_type": "code",
      "source": [
        "s2"
      ],
      "metadata": {
        "colab": {
          "base_uri": "https://localhost:8080/"
        },
        "id": "_mbNw_pPZzzN",
        "outputId": "9208a6b2-3a8c-4eaa-cd5c-66619459e088"
      },
      "execution_count": null,
      "outputs": [
        {
          "output_type": "execute_result",
          "data": {
            "text/plain": [
              "0    3\n",
              "1    3\n",
              "dtype: int64"
            ]
          },
          "metadata": {},
          "execution_count": 30
        }
      ]
    },
    {
      "cell_type": "code",
      "source": [
        "s2.is_unique"
      ],
      "metadata": {
        "colab": {
          "base_uri": "https://localhost:8080/"
        },
        "id": "7a3oUnVqZ5CD",
        "outputId": "ab39a293-dd54-44b2-9307-9601bf76cda4"
      },
      "execution_count": null,
      "outputs": [
        {
          "output_type": "execute_result",
          "data": {
            "text/plain": [
              "False"
            ]
          },
          "metadata": {},
          "execution_count": 31
        }
      ]
    },
    {
      "cell_type": "code",
      "source": [
        "# The is_monotonic attribute returns True if each Series value is greater than the\n",
        "# previous one\n",
        " pd.Series(data = [1, 3, 6]).is_monotonic"
      ],
      "metadata": {
        "colab": {
          "base_uri": "https://localhost:8080/"
        },
        "id": "IRx06ZLiaAVf",
        "outputId": "14d77dcd-e484-4df9-d083-c16dc5f679f9"
      },
      "execution_count": null,
      "outputs": [
        {
          "output_type": "execute_result",
          "data": {
            "text/plain": [
              "True"
            ]
          },
          "metadata": {},
          "execution_count": 32
        }
      ]
    },
    {
      "cell_type": "code",
      "source": [
        "# Series attributes such as size, shape, values, and index.\n",
        "#  Attributes define an object’s state,\n",
        "# and methods define an object’s behavior"
      ],
      "metadata": {
        "id": "GH2rTji-aZov"
      },
      "execution_count": null,
      "outputs": []
    },
    {
      "cell_type": "code",
      "source": [
        "# The range function’s three arguments are a lower bound, the upper bound, and a step\n",
        "# sequence (the interval between every two numbers)."
      ],
      "metadata": {
        "id": "fcS8BOOzcNRN"
      },
      "execution_count": null,
      "outputs": []
    },
    {
      "cell_type": "code",
      "source": [
        "values = range(0, 500, 5)\n",
        "nums = pd.Series(data = values)\n",
        "nums"
      ],
      "metadata": {
        "colab": {
          "base_uri": "https://localhost:8080/"
        },
        "id": "NlNWWJWicT33",
        "outputId": "71ad6bc1-20e2-4f5c-a8c1-09aa47a19c09"
      },
      "execution_count": null,
      "outputs": [
        {
          "output_type": "execute_result",
          "data": {
            "text/plain": [
              "0       0\n",
              "1       5\n",
              "2      10\n",
              "3      15\n",
              "4      20\n",
              "     ... \n",
              "95    475\n",
              "96    480\n",
              "97    485\n",
              "98    490\n",
              "99    495\n",
              "Length: 100, dtype: int64"
            ]
          },
          "metadata": {},
          "execution_count": 33
        }
      ]
    },
    {
      "cell_type": "code",
      "source": [
        "#"
      ],
      "metadata": {
        "id": "yKaNKDbscTxX"
      },
      "execution_count": null,
      "outputs": []
    },
    {
      "cell_type": "markdown",
      "source": [
        "methods inside series class:\n",
        "head()-tail()"
      ],
      "metadata": {
        "id": "4CNH0127cd5E"
      }
    },
    {
      "cell_type": "code",
      "source": [
        "# The count method counts the number of non-null values:\n",
        "\n",
        "numbers = pd.Series([1, 2, 3, np.nan, 4, 5])\n",
        "numbers.count()"
      ],
      "metadata": {
        "colab": {
          "base_uri": "https://localhost:8080/"
        },
        "id": "BmAgbQTxcqmP",
        "outputId": "d2b1d689-6671-4862-e44a-686bb15055e4"
      },
      "execution_count": null,
      "outputs": [
        {
          "output_type": "execute_result",
          "data": {
            "text/plain": [
              "5"
            ]
          },
          "metadata": {},
          "execution_count": 34
        }
      ]
    },
    {
      "cell_type": "code",
      "source": [
        "# Most mathematical methods ignore missing values by default. \n",
        "# We can pass an argument of False to the skipna parameter to force the inclusion of missing values.\n",
        "numbers.sum()"
      ],
      "metadata": {
        "colab": {
          "base_uri": "https://localhost:8080/"
        },
        "id": "hp359EuncyFF",
        "outputId": "650b0cf6-acf0-45fd-a72f-815ebe303086"
      },
      "execution_count": null,
      "outputs": [
        {
          "output_type": "execute_result",
          "data": {
            "text/plain": [
              "15.0"
            ]
          },
          "metadata": {},
          "execution_count": 35
        }
      ]
    },
    {
      "cell_type": "code",
      "source": [
        "numbers.sum(skipna = False, min_count = 5)"
      ],
      "metadata": {
        "colab": {
          "base_uri": "https://localhost:8080/"
        },
        "id": "QFerHQjrdGow",
        "outputId": "4ccd4089-ca07-4397-fa65-4511c66566e2"
      },
      "execution_count": null,
      "outputs": [
        {
          "output_type": "execute_result",
          "data": {
            "text/plain": [
              "nan"
            ]
          },
          "metadata": {},
          "execution_count": 37
        }
      ]
    },
    {
      "cell_type": "code",
      "source": [
        "numbers.sum(skipna = True, min_count = 5)"
      ],
      "metadata": {
        "colab": {
          "base_uri": "https://localhost:8080/"
        },
        "id": "2Jmm5DvqdKEt",
        "outputId": "f6327e80-771d-46de-aa2e-86d451c592f1"
      },
      "execution_count": null,
      "outputs": [
        {
          "output_type": "execute_result",
          "data": {
            "text/plain": [
              "15.0"
            ]
          },
          "metadata": {},
          "execution_count": 41
        }
      ]
    },
    {
      "cell_type": "code",
      "source": [
        "# The cumsum (cumulative sum) method returns a new Series with a rolling sum of values.\n",
        "numbers.cumsum()"
      ],
      "metadata": {
        "colab": {
          "base_uri": "https://localhost:8080/"
        },
        "id": "nt5iKfw4dWrX",
        "outputId": "48e23f9b-4f6d-4b76-bc06-7895934e8428"
      },
      "execution_count": null,
      "outputs": [
        {
          "output_type": "execute_result",
          "data": {
            "text/plain": [
              "0     1.0\n",
              "1     3.0\n",
              "2     6.0\n",
              "3     NaN\n",
              "4    10.0\n",
              "5    15.0\n",
              "dtype: float64"
            ]
          },
          "metadata": {},
          "execution_count": 42
        }
      ]
    },
    {
      "cell_type": "markdown",
      "source": [
        "Each index position holds the sum of values up to and including the value at\n",
        "that index. A cumulative sum helps determine which values contribute most to the\n",
        "total:"
      ],
      "metadata": {
        "id": "xUqXWL3Nd84Z"
      }
    },
    {
      "cell_type": "code",
      "source": [
        "numbers.cumsum(skipna = False)"
      ],
      "metadata": {
        "colab": {
          "base_uri": "https://localhost:8080/"
        },
        "id": "QT759sH8dy29",
        "outputId": "8b71281b-102e-40d4-ff99-4479af86072a"
      },
      "execution_count": null,
      "outputs": [
        {
          "output_type": "execute_result",
          "data": {
            "text/plain": [
              "0    1.0\n",
              "1    3.0\n",
              "2    6.0\n",
              "3    NaN\n",
              "4    NaN\n",
              "5    NaN\n",
              "dtype: float64"
            ]
          },
          "metadata": {},
          "execution_count": 43
        }
      ]
    },
    {
      "cell_type": "markdown",
      "source": [
        "The pct_change (percent change) method returns the percentage difference from\n",
        "one Series value to the next. At each index, pandas adds the last index’s value and\n",
        "the current index’s value and then divides the sum by the last index’s value. Pandas\n",
        "can calculate a percentage difference only if both indexes have valid values.\n",
        "The pct_change method defaults to a forward-fill strategy for missing values. With\n",
        "this strategy, pandas replaces a nan with the last valid value it encountered. Let’s\n",
        "invoke the method and then walk through the calculations"
      ],
      "metadata": {
        "id": "PeO2RSateTZS"
      }
    },
    {
      "cell_type": "code",
      "source": [
        "numbers.pct_change()"
      ],
      "metadata": {
        "colab": {
          "base_uri": "https://localhost:8080/"
        },
        "id": "1_JpV_NleHZ_",
        "outputId": "67027aec-c203-4f14-f67d-56f7c83b60dd"
      },
      "execution_count": null,
      "outputs": [
        {
          "output_type": "execute_result",
          "data": {
            "text/plain": [
              "0         NaN\n",
              "1    1.000000\n",
              "2    0.500000\n",
              "3    0.000000\n",
              "4    0.333333\n",
              "5    0.250000\n",
              "dtype: float64"
            ]
          },
          "metadata": {},
          "execution_count": 44
        }
      ]
    },
    {
      "cell_type": "code",
      "source": [
        "numbers.nunique()"
      ],
      "metadata": {
        "colab": {
          "base_uri": "https://localhost:8080/"
        },
        "id": "RtBneUyZeOIG",
        "outputId": "8de4e67e-4569-4be5-df56-eac0e39cdb66"
      },
      "execution_count": null,
      "outputs": [
        {
          "output_type": "execute_result",
          "data": {
            "text/plain": [
              "5"
            ]
          },
          "metadata": {},
          "execution_count": 45
        }
      ]
    },
    {
      "cell_type": "code",
      "source": [
        ""
      ],
      "metadata": {
        "id": "2eNCVRnUlYvm"
      },
      "execution_count": null,
      "outputs": []
    }
  ]
}