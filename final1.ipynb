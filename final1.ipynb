{
  "nbformat": 4,
  "nbformat_minor": 0,
  "metadata": {
    "colab": {
      "name": "Untitled1.ipynb",
      "provenance": [],
      "collapsed_sections": []
    },
    "kernelspec": {
      "name": "python3",
      "display_name": "Python 3"
    },
    "language_info": {
      "name": "python"
    }
  },
  "cells": [
    {
      "cell_type": "code",
      "execution_count": 1,
      "metadata": {
        "colab": {
          "base_uri": "https://localhost:8080/"
        },
        "id": "1r9McamrUWFD",
        "outputId": "cf66f5a2-1e2e-462e-8365-7b7091afdc0b"
      },
      "outputs": [
        {
          "output_type": "stream",
          "name": "stderr",
          "text": [
            "/usr/local/lib/python3.7/dist-packages/nltk/twitter/__init__.py:20: UserWarning: The twython library has not been installed. Some functionality from the twitter package will not be available.\n",
            "  warnings.warn(\"The twython library has not been installed. \"\n"
          ]
        }
      ],
      "source": [
        "import string\n",
        "from collections import Counter\n",
        "\n",
        "import matplotlib.pyplot as plt\n",
        "from nltk.corpus import stopwords\n",
        "from nltk.sentiment.vader import SentimentIntensityAnalyzer\n",
        "from nltk.stem import WordNetLemmatizer\n",
        "from nltk.tokenize import word_tokenize\n"
      ]
    },
    {
      "cell_type": "code",
      "source": [
        "text = open('read.txt', encoding='utf-8').read()\n"
      ],
      "metadata": {
        "id": "vAOgi4rZUxL-"
      },
      "execution_count": 2,
      "outputs": []
    },
    {
      "cell_type": "code",
      "source": [
        "lower_case = text.lower()\n",
        "cleaned_text = lower_case.translate(str.maketrans('', '', string.punctuation))"
      ],
      "metadata": {
        "id": "qXS7NEb0U54F"
      },
      "execution_count": 5,
      "outputs": []
    },
    {
      "cell_type": "code",
      "source": [
        "import nltk\n",
        "nltk.download('punkt')"
      ],
      "metadata": {
        "colab": {
          "base_uri": "https://localhost:8080/"
        },
        "id": "_YynXBYaVHTk",
        "outputId": "72d43cf6-3735-4a10-9737-aebd59d578d0"
      },
      "execution_count": 7,
      "outputs": [
        {
          "output_type": "stream",
          "name": "stdout",
          "text": [
            "[nltk_data] Downloading package punkt to /root/nltk_data...\n",
            "[nltk_data]   Unzipping tokenizers/punkt.zip.\n"
          ]
        },
        {
          "output_type": "execute_result",
          "data": {
            "text/plain": [
              "True"
            ]
          },
          "metadata": {},
          "execution_count": 7
        }
      ]
    },
    {
      "cell_type": "code",
      "source": [
        "# Using word_tokenize because it's faster than split()\n",
        "tokenized_words = word_tokenize(cleaned_text, \"english\")"
      ],
      "metadata": {
        "id": "YxdSxMmbVDe0"
      },
      "execution_count": 8,
      "outputs": []
    },
    {
      "cell_type": "code",
      "source": [
        "import nltk\n",
        "nltk.download('stopwords')"
      ],
      "metadata": {
        "colab": {
          "base_uri": "https://localhost:8080/"
        },
        "id": "MYV3xU2nVrNa",
        "outputId": "23614e34-6b2a-427b-ce75-89a7feeba48d"
      },
      "execution_count": 11,
      "outputs": [
        {
          "output_type": "stream",
          "name": "stdout",
          "text": [
            "[nltk_data] Downloading package stopwords to /root/nltk_data...\n",
            "[nltk_data]   Unzipping corpora/stopwords.zip.\n"
          ]
        },
        {
          "output_type": "execute_result",
          "data": {
            "text/plain": [
              "True"
            ]
          },
          "metadata": {},
          "execution_count": 11
        }
      ]
    },
    {
      "cell_type": "code",
      "source": [
        "# Removing Stop Words\n",
        "final_words = []\n",
        "for word in tokenized_words:\n",
        "    if word not in stopwords.words('english'):\n",
        "        final_words.append(word)"
      ],
      "metadata": {
        "id": "S2UZKjv7VgMX"
      },
      "execution_count": 12,
      "outputs": []
    },
    {
      "cell_type": "code",
      "source": [
        "import nltk\n",
        "nltk.download('wordnet')"
      ],
      "metadata": {
        "colab": {
          "base_uri": "https://localhost:8080/"
        },
        "id": "reIJYyVKV-h-",
        "outputId": "4dc1de39-001d-4c60-a22c-208959d12d21"
      },
      "execution_count": 14,
      "outputs": [
        {
          "output_type": "stream",
          "name": "stdout",
          "text": [
            "[nltk_data] Downloading package wordnet to /root/nltk_data...\n",
            "[nltk_data]   Unzipping corpora/wordnet.zip.\n"
          ]
        },
        {
          "output_type": "execute_result",
          "data": {
            "text/plain": [
              "True"
            ]
          },
          "metadata": {},
          "execution_count": 14
        }
      ]
    },
    {
      "cell_type": "code",
      "source": [
        "# Lemmatization - From plural to single + Base form of a word (example better-> good)\n",
        "lemma_words = []\n",
        "for word in final_words:\n",
        "    word = WordNetLemmatizer().lemmatize(word)\n",
        "    lemma_words.append(word)\n"
      ],
      "metadata": {
        "id": "-AhhoECmV6rp"
      },
      "execution_count": 15,
      "outputs": []
    },
    {
      "cell_type": "markdown",
      "source": [
        ""
      ],
      "metadata": {
        "id": "LUPdXZtmVkU4"
      }
    },
    {
      "cell_type": "code",
      "source": [
        "emotion_list = []\n",
        "with open('emotions.txt', 'r') as file:\n",
        "    for line in file:\n",
        "        clear_line = line.replace(\"\\n\", '').replace(\",\", '').replace(\"'\", '').strip()\n",
        "        word, emotion = clear_line.split(':')\n",
        "\n",
        "        if word in lemma_words:\n",
        "            emotion_list.append(emotion)"
      ],
      "metadata": {
        "id": "7jAJSN2TWIso"
      },
      "execution_count": 16,
      "outputs": []
    },
    {
      "cell_type": "code",
      "source": [
        "print(emotion_list)\n",
        "w = Counter(emotion_list)\n",
        "print(w)\n"
      ],
      "metadata": {
        "colab": {
          "base_uri": "https://localhost:8080/"
        },
        "id": "uxTJx2vpWJPN",
        "outputId": "88aae9b2-b08e-41c5-dedc-405056d0468c"
      },
      "execution_count": 17,
      "outputs": [
        {
          "output_type": "stream",
          "name": "stdout",
          "text": [
            "[' happy', ' happy', ' attached', ' happy', ' attracted', ' alone', ' free', ' hated', ' happy', ' entitled', ' happy', ' loved', ' hated', ' entitled']\n",
            "Counter({' happy': 5, ' hated': 2, ' entitled': 2, ' attached': 1, ' attracted': 1, ' alone': 1, ' free': 1, ' loved': 1})\n"
          ]
        }
      ]
    },
    {
      "cell_type": "code",
      "source": [
        "def sentiment_analyse(sentiment_text):\n",
        "    score = SentimentIntensityAnalyzer().polarity_scores(sentiment_text)\n",
        "    if score['neg'] > score['pos']:\n",
        "        print(\"Negative Sentiment\")\n",
        "    elif score['neg'] < score['pos']:\n",
        "        print(\"Positive Sentiment\")\n",
        "    else:\n",
        "        print(\"Neutral Sentiment\")\n"
      ],
      "metadata": {
        "id": "cpWbB09rWLvk"
      },
      "execution_count": 19,
      "outputs": []
    },
    {
      "cell_type": "code",
      "source": [
        "import nltk\n",
        "nltk.download('vader_lexicon')"
      ],
      "metadata": {
        "colab": {
          "base_uri": "https://localhost:8080/"
        },
        "id": "zCWcwRzXWXoG",
        "outputId": "58df51e4-617f-48ee-fc45-a994af491470"
      },
      "execution_count": 21,
      "outputs": [
        {
          "output_type": "stream",
          "name": "stdout",
          "text": [
            "[nltk_data] Downloading package vader_lexicon to /root/nltk_data...\n"
          ]
        },
        {
          "output_type": "execute_result",
          "data": {
            "text/plain": [
              "True"
            ]
          },
          "metadata": {},
          "execution_count": 21
        }
      ]
    },
    {
      "cell_type": "code",
      "source": [
        "sentiment_analyse(cleaned_text)"
      ],
      "metadata": {
        "colab": {
          "base_uri": "https://localhost:8080/"
        },
        "id": "kNvNAAVJWOcf",
        "outputId": "5d13c3f6-a4ec-45ea-fcd3-b97fdc4f7211"
      },
      "execution_count": 22,
      "outputs": [
        {
          "output_type": "stream",
          "name": "stdout",
          "text": [
            "Positive Sentiment\n"
          ]
        }
      ]
    },
    {
      "cell_type": "code",
      "source": [
        "fig, ax1 = plt.subplots()\n",
        "ax1.bar(w.keys(), w.values())\n",
        "fig.autofmt_xdate()\n",
        "plt.savefig('graph.png')\n",
        "plt.show()\n"
      ],
      "metadata": {
        "colab": {
          "base_uri": "https://localhost:8080/",
          "height": 267
        },
        "id": "8TOof1AuWe5G",
        "outputId": "fea25ff5-8a3f-424d-e439-43de8a115653"
      },
      "execution_count": 23,
      "outputs": [
        {
          "output_type": "display_data",
          "data": {
            "image/png": "[encoded data removed]",
            "text/plain": [
              "<Figure size 432x288 with 1 Axes>"
            ]
          },
          "metadata": {
            "needs_background": "light"
          }
        }
      ]
    },
    {
      "cell_type": "code",
      "source": [
        ""
      ],
      "metadata": {
        "id": "3BGlRu8wWjxe"
      },
      "execution_count": null,
      "outputs": []
    }
  ]
}